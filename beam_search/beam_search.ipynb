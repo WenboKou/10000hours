{
 "cells": [
  {
   "cell_type": "code",
   "execution_count": 1,
   "metadata": {},
   "outputs": [
    {
     "name": "stderr",
     "output_type": "stream",
     "text": [
      "/Users/wenbokou/codes/10000hours/venv/lib/python3.10/site-packages/tqdm/auto.py:21: TqdmWarning: IProgress not found. Please update jupyter and ipywidgets. See https://ipywidgets.readthedocs.io/en/stable/user_install.html\n",
      "  from .autonotebook import tqdm as notebook_tqdm\n"
     ]
    }
   ],
   "source": [
    "import torch\n",
    "from transformers import AutoModelForCausalLM, AutoTokenizer"
   ]
  },
  {
   "cell_type": "code",
   "execution_count": 2,
   "metadata": {},
   "outputs": [
    {
     "name": "stdout",
     "output_type": "stream",
     "text": [
      "mps\n"
     ]
    }
   ],
   "source": [
    "if torch.cuda.is_available():\n",
    "    device = torch.device(\"cuda\")\n",
    "elif torch.backends.mps.is_available():\n",
    "    device = torch.device(\"mps\")\n",
    "else:\n",
    "    device = torch.device(\"cpu\")\n",
    "print(device)"
   ]
  },
  {
   "cell_type": "code",
   "execution_count": 3,
   "metadata": {},
   "outputs": [
    {
     "name": "stderr",
     "output_type": "stream",
     "text": [
      "/Users/wenbokou/codes/10000hours/venv/lib/python3.10/site-packages/accelerate/utils/modeling.py:1462: UserWarning: Current model requires 268435968 bytes of buffer for offloaded layers, which seems does not fit any GPU's remaining memory. If you are experiencing a OOM later, please consider using offload_buffers=True.\n",
      "  warnings.warn(\n",
      "Some parameters are on the meta device because they were offloaded to the disk.\n"
     ]
    }
   ],
   "source": [
    "model_name = \"Qwen/Qwen2-0.5B\"\n",
    "model = AutoModelForCausalLM.from_pretrained(\n",
    "    model_name,\n",
    "    torch_dtype=\"auto\",\n",
    "    device_map=\"auto\"\n",
    ")\n",
    "tokenizer = AutoTokenizer.from_pretrained(model_name)"
   ]
  },
  {
   "cell_type": "code",
   "execution_count": 55,
   "metadata": {},
   "outputs": [],
   "source": [
    "prompt = \"上海的天气是\"\n",
    "messages = [\n",
    "    {\"role\": \"system\", \"content\": \"You are a helpful assistant.\"},\n",
    "    {\"role\": \"user\", \"content\": prompt}\n",
    "]\n",
    "text = tokenizer.apply_chat_template(\n",
    "    messages,\n",
    "    tokenize=False,\n",
    "    add_generation_prompt=True\n",
    ")\n",
    "input_ids = tokenizer([text], return_tensors=\"pt\").to(device).input_ids"
   ]
  },
  {
   "cell_type": "code",
   "execution_count": 65,
   "metadata": {},
   "outputs": [
    {
     "name": "stdout",
     "output_type": "stream",
     "text": [
      "完成第1次生成\n",
      "完成第2次生成\n",
      "完成第3次生成\n",
      "完成第4次生成\n",
      "完成第5次生成\n",
      "完成第6次生成\n",
      "完成第7次生成\n",
      "完成第8次生成\n",
      "完成第9次生成\n",
      "完成第10次生成\n"
     ]
    }
   ],
   "source": [
    "beam_size = 2\n",
    "max_len = 10\n",
    "eos_token_id = tokenizer.eos_token_id\n",
    "all_possible_ans = [(input_ids, 1)]\n",
    "generate_times = 0\n",
    "\n",
    "while generate_times < max_len:\n",
    "    new_all_possible_ans = []\n",
    "    for idx, score in all_possible_ans:\n",
    "        if idx[0,-1].item() == eos_token_id:\n",
    "            new_all_possible_ans.append((idx, score))\n",
    "            continue\n",
    "        model_outputs = model(idx)\n",
    "        scores, indices = torch.topk(model_outputs.logits[0,-1,:], k=beam_size)\n",
    "        for k in range(beam_size):\n",
    "            output_ids = torch.cat((idx, indices[k].unsqueeze(0).unsqueeze(0)), dim=-1)\n",
    "            new_all_possible_ans.append((output_ids, score * scores[k]))\n",
    "    all_possible_ans = sorted(new_all_possible_ans, key=lambda x:x[1], reverse=True)[:beam_size]\n",
    "    generate_times += 1\n",
    "    print(f\"完成第{generate_times}次生成\")"
   ]
  },
  {
   "cell_type": "code",
   "execution_count": 67,
   "metadata": {},
   "outputs": [
    {
     "name": "stdout",
     "output_type": "stream",
     "text": [
      "['<|im_start|>system\\nYou are a helpful assistant.<|im_end|>\\n<|im_start|>user\\n上海的天气是<|im_end|>\\n<|im_start|>assistant\\n根据文章内容，上海的天气可以概括为']\n",
      "['<|im_start|>system\\nYou are a helpful assistant.<|im_end|>\\n<|im_start|>user\\n上海的天气是<|im_end|>\\n<|im_start|>assistant\\n根据文章内容，上海的天气可以概括如下']\n"
     ]
    }
   ],
   "source": [
    "for k in range(beam_size):\n",
    "    print(tokenizer.batch_decode(all_possible_ans[k][0]))"
   ]
  },
  {
   "cell_type": "code",
   "execution_count": null,
   "metadata": {},
   "outputs": [],
   "source": []
  }
 ],
 "metadata": {
  "kernelspec": {
   "display_name": "venv",
   "language": "python",
   "name": "python3"
  },
  "language_info": {
   "codemirror_mode": {
    "name": "ipython",
    "version": 3
   },
   "file_extension": ".py",
   "mimetype": "text/x-python",
   "name": "python",
   "nbconvert_exporter": "python",
   "pygments_lexer": "ipython3",
   "version": "3.10.11"
  }
 },
 "nbformat": 4,
 "nbformat_minor": 2
}
