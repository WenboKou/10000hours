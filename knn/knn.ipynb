{
 "cells": [
  {
   "cell_type": "code",
   "execution_count": 1,
   "metadata": {},
   "outputs": [],
   "source": [
    "import torch"
   ]
  },
  {
   "cell_type": "code",
   "execution_count": 2,
   "metadata": {},
   "outputs": [
    {
     "data": {
      "text/plain": [
       "<torch._C.Generator at 0x1141d04d0>"
      ]
     },
     "execution_count": 2,
     "metadata": {},
     "output_type": "execute_result"
    }
   ],
   "source": [
    "torch.manual_seed(0)"
   ]
  },
  {
   "cell_type": "code",
   "execution_count": 3,
   "metadata": {},
   "outputs": [],
   "source": [
    "d = 20 # 特征维度\n",
    "n = 100 # 训练样本数量\n",
    "C = 10 # 类别的数量\n",
    "t = 40 # 测试样本数量\n",
    "K = 7 # 邻居数量"
   ]
  },
  {
   "cell_type": "code",
   "execution_count": 4,
   "metadata": {},
   "outputs": [],
   "source": [
    "X_train = torch.rand(n, d)\n",
    "y_train = torch.randint(1, C, (n,))\n",
    "T = torch.rand(t, d)"
   ]
  },
  {
   "cell_type": "code",
   "execution_count": 5,
   "metadata": {},
   "outputs": [
    {
     "name": "stdout",
     "output_type": "stream",
     "text": [
      "tensor([[3.6316, 3.9224, 3.7948,  ..., 2.9056, 5.2984, 2.3613],\n",
      "        [2.4834, 3.5503, 3.8866,  ..., 1.9331, 4.4838, 3.9127],\n",
      "        [2.8477, 3.5900, 1.4597,  ..., 2.4509, 3.8432, 4.5834],\n",
      "        ...,\n",
      "        [2.4622, 4.1187, 3.0745,  ..., 2.5219, 2.6697, 3.6736],\n",
      "        [2.5319, 1.8156, 3.6772,  ..., 3.8384, 2.2318, 3.3201],\n",
      "        [3.4255, 4.3354, 3.5619,  ..., 2.1941, 4.8147, 3.8205]])\n"
     ]
    }
   ],
   "source": [
    "T_squared = torch.sum(T ** 2, axis=1).reshape(-1, 1)\n",
    "X_train_squared = torch.sum(X_train ** 2, axis=1).reshape(1, -1)\n",
    "dist = T_squared + X_train_squared - 2 * T @ X_train.T  # (i,)+(,j)-(i, j)\n",
    "print(dist)"
   ]
  },
  {
   "cell_type": "code",
   "execution_count": 6,
   "metadata": {},
   "outputs": [
    {
     "data": {
      "text/plain": [
       "tensor([[44, 39, 10,  ...,  7, 98, 60],\n",
       "        [88, 54, 97,  ..., 23, 53, 84],\n",
       "        [31, 87, 11,  ..., 16, 46, 29],\n",
       "        ...,\n",
       "        [ 6, 82, 47,  ...,  4, 37, 48],\n",
       "        [ 1, 12,  6,  ..., 62, 28, 22],\n",
       "        [54, 88, 79,  ..., 12, 98, 91]])"
      ]
     },
     "execution_count": 6,
     "metadata": {},
     "output_type": "execute_result"
    }
   ],
   "source": [
    "torch.argsort(dist, dim=1)"
   ]
  },
  {
   "cell_type": "code",
   "execution_count": 7,
   "metadata": {},
   "outputs": [
    {
     "data": {
      "text/plain": [
       "tensor([6, 8, 1, 7, 4, 6, 1, 7, 8, 5, 1, 4, 6, 5, 5, 8, 7, 5, 9, 9, 3, 6, 7, 2,\n",
       "        4, 7, 5, 4, 6, 3, 8, 4, 8, 9, 5, 9, 3, 8, 1, 8, 3, 4, 6, 8, 1, 6, 7, 7,\n",
       "        4, 2, 3, 6, 4, 2, 2, 3, 1, 5, 9, 3, 6, 2, 3, 6, 6, 1, 6, 7, 2, 2, 9, 5,\n",
       "        3, 5, 1, 7, 9, 1, 9, 1, 2, 4, 4, 6, 5, 3, 6, 9, 6, 2, 3, 8, 5, 1, 1, 9,\n",
       "        9, 2, 6, 4])"
      ]
     },
     "execution_count": 7,
     "metadata": {},
     "output_type": "execute_result"
    }
   ],
   "source": [
    "y_train"
   ]
  },
  {
   "cell_type": "code",
   "execution_count": 8,
   "metadata": {},
   "outputs": [
    {
     "data": {
      "text/plain": [
       "tensor([[1, 8, 1, 1, 9, 8, 4],\n",
       "        [6, 2, 2, 3, 5, 6, 6],\n",
       "        [4, 9, 4, 1, 3, 8, 2],\n",
       "        [3, 9, 6, 7, 4, 9, 3],\n",
       "        [2, 3, 9, 4, 1, 3, 3],\n",
       "        [3, 9, 7, 6, 1, 4, 6],\n",
       "        [4, 3, 7, 5, 6, 3, 8],\n",
       "        [3, 3, 2, 6, 9, 2, 6],\n",
       "        [4, 2, 2, 6, 7, 6, 6],\n",
       "        [2, 2, 8, 9, 6, 1, 1],\n",
       "        [1, 6, 1, 9, 1, 9, 3],\n",
       "        [6, 2, 1, 8, 5, 7, 7],\n",
       "        [5, 4, 2, 4, 6, 3, 5],\n",
       "        [6, 4, 4, 8, 3, 9, 9],\n",
       "        [8, 2, 2, 2, 6, 6, 5],\n",
       "        [6, 6, 1, 8, 2, 9, 2],\n",
       "        [9, 2, 7, 3, 3, 7, 1],\n",
       "        [1, 1, 3, 6, 9, 2, 4],\n",
       "        [2, 8, 7, 9, 5, 4, 2],\n",
       "        [2, 4, 8, 6, 9, 5, 4],\n",
       "        [3, 6, 5, 1, 6, 2, 3],\n",
       "        [5, 6, 4, 8, 8, 2, 1],\n",
       "        [2, 8, 1, 6, 1, 1, 9],\n",
       "        [8, 1, 3, 1, 3, 9, 2],\n",
       "        [2, 6, 4, 6, 2, 9, 7],\n",
       "        [2, 1, 3, 6, 1, 6, 4],\n",
       "        [7, 2, 8, 8, 9, 3, 4],\n",
       "        [4, 2, 6, 3, 1, 9, 8],\n",
       "        [2, 4, 6, 8, 4, 4, 5],\n",
       "        [6, 6, 1, 5, 7, 1, 4],\n",
       "        [7, 3, 1, 6, 5, 4, 2],\n",
       "        [8, 4, 2, 9, 9, 3, 6],\n",
       "        [4, 3, 6, 4, 2, 3, 6],\n",
       "        [2, 9, 6, 4, 6, 5, 2],\n",
       "        [7, 9, 8, 1, 6, 1, 6],\n",
       "        [2, 1, 5, 8, 5, 3, 8],\n",
       "        [8, 1, 7, 8, 6, 6, 8],\n",
       "        [1, 4, 7, 6, 5, 2, 8],\n",
       "        [8, 6, 1, 6, 5, 9, 7],\n",
       "        [2, 6, 1, 1, 6, 9, 2]])"
      ]
     },
     "execution_count": 8,
     "metadata": {},
     "output_type": "execute_result"
    }
   ],
   "source": [
    "y_train[torch.argsort(dist, dim=1)[:, :K]]"
   ]
  },
  {
   "cell_type": "code",
   "execution_count": 9,
   "metadata": {},
   "outputs": [
    {
     "name": "stdout",
     "output_type": "stream",
     "text": [
      "tensor([[1, 8, 1, 1, 9, 8, 4],\n",
      "        [6, 2, 2, 3, 5, 6, 6],\n",
      "        [4, 9, 4, 1, 3, 8, 2],\n",
      "        [3, 9, 6, 7, 4, 9, 3],\n",
      "        [2, 3, 9, 4, 1, 3, 3],\n",
      "        [3, 9, 7, 6, 1, 4, 6],\n",
      "        [4, 3, 7, 5, 6, 3, 8],\n",
      "        [3, 3, 2, 6, 9, 2, 6],\n",
      "        [4, 2, 2, 6, 7, 6, 6],\n",
      "        [2, 2, 8, 9, 6, 1, 1],\n",
      "        [1, 6, 1, 9, 1, 9, 3],\n",
      "        [6, 2, 1, 8, 5, 7, 7],\n",
      "        [5, 4, 2, 4, 6, 3, 5],\n",
      "        [6, 4, 4, 8, 3, 9, 9],\n",
      "        [8, 2, 2, 2, 6, 6, 5],\n",
      "        [6, 6, 1, 8, 2, 9, 2],\n",
      "        [9, 2, 7, 3, 3, 7, 1],\n",
      "        [1, 1, 3, 6, 9, 2, 4],\n",
      "        [2, 8, 7, 9, 5, 4, 2],\n",
      "        [2, 4, 8, 6, 9, 5, 4],\n",
      "        [3, 6, 5, 1, 6, 2, 3],\n",
      "        [5, 6, 4, 8, 8, 2, 1],\n",
      "        [2, 8, 1, 6, 1, 1, 9],\n",
      "        [8, 1, 3, 1, 3, 9, 2],\n",
      "        [2, 6, 4, 6, 2, 9, 7],\n",
      "        [2, 1, 3, 6, 1, 6, 4],\n",
      "        [7, 2, 8, 8, 9, 3, 4],\n",
      "        [4, 2, 6, 3, 1, 9, 8],\n",
      "        [2, 4, 6, 8, 4, 4, 5],\n",
      "        [6, 6, 1, 5, 7, 1, 4],\n",
      "        [7, 3, 1, 6, 5, 4, 2],\n",
      "        [8, 4, 2, 9, 9, 3, 6],\n",
      "        [4, 3, 6, 4, 2, 3, 6],\n",
      "        [2, 9, 6, 4, 6, 5, 2],\n",
      "        [7, 9, 8, 1, 6, 1, 6],\n",
      "        [2, 1, 5, 8, 5, 3, 8],\n",
      "        [8, 1, 7, 8, 6, 6, 8],\n",
      "        [1, 4, 7, 6, 5, 2, 8],\n",
      "        [8, 6, 1, 6, 5, 9, 7],\n",
      "        [2, 6, 1, 1, 6, 9, 2]])\n"
     ]
    }
   ],
   "source": [
    "k_nearest_labels = y_train[torch.argsort(dist, dim=1)[:, :K]]\n",
    "print(k_nearest_labels)"
   ]
  },
  {
   "cell_type": "code",
   "execution_count": 11,
   "metadata": {},
   "outputs": [],
   "source": [
    "y_pred = torch.zeros(T.shape[0])\n",
    "for row in range(k_nearest_labels.shape[0]):\n",
    "    y_pred[row] = torch.bincount(k_nearest_labels[row]).argmax()"
   ]
  },
  {
   "cell_type": "code",
   "execution_count": 12,
   "metadata": {},
   "outputs": [
    {
     "data": {
      "text/plain": [
       "tensor([0, 2, 2, 0, 0, 0, 2, 0, 0, 1])"
      ]
     },
     "execution_count": 12,
     "metadata": {},
     "output_type": "execute_result"
    }
   ],
   "source": [
    "torch.bincount(k_nearest_labels[row])"
   ]
  },
  {
   "cell_type": "code",
   "execution_count": 13,
   "metadata": {},
   "outputs": [
    {
     "data": {
      "text/plain": [
       "tensor(1)"
      ]
     },
     "execution_count": 13,
     "metadata": {},
     "output_type": "execute_result"
    }
   ],
   "source": [
    "torch.bincount(k_nearest_labels[row]).argmax()"
   ]
  },
  {
   "cell_type": "code",
   "execution_count": null,
   "metadata": {},
   "outputs": [],
   "source": []
  }
 ],
 "metadata": {
  "kernelspec": {
   "display_name": "venv",
   "language": "python",
   "name": "python3"
  },
  "language_info": {
   "codemirror_mode": {
    "name": "ipython",
    "version": 3
   },
   "file_extension": ".py",
   "mimetype": "text/x-python",
   "name": "python",
   "nbconvert_exporter": "python",
   "pygments_lexer": "ipython3",
   "version": "3.10.11"
  }
 },
 "nbformat": 4,
 "nbformat_minor": 2
}
